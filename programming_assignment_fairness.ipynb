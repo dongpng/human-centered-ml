{
  "nbformat": 4,
  "nbformat_minor": 0,
  "metadata": {
    "colab": {
      "name": "programming_assignment_fairness_v2 (2).ipynb",
      "provenance": []
    },
    "kernelspec": {
      "display_name": "human-centered-ml3",
      "language": "python",
      "name": "human-centered-ml3"
    },
    "language_info": {
      "codemirror_mode": {
        "name": "ipython",
        "version": 3
      },
      "file_extension": ".py",
      "mimetype": "text/x-python",
      "name": "python",
      "nbconvert_exporter": "python",
      "pygments_lexer": "ipython3",
      "version": "3.6.13"
    }
  },
  "cells": [
    {
      "cell_type": "markdown",
      "metadata": {
        "id": "JVBQ-6Vmxu6j"
      },
      "source": [
        "# Submission instructions \n",
        "\n",
        "All code that you write should be in this notebook.\n",
        "Submit (via Blackboard):\n",
        "\n",
        "* This notebook with your code added. Make sure to add enough documentation.\n",
        "* A short report, max 2 pages including any figures and/or tables (it is likely that you won't need the full 2 pages). Use [this template](https://www.overleaf.com/read/mvskntycrckw). \n",
        "\n",
        "For questions, make use of the \"Lab\" session (see schedule).\n",
        "Questions can also be posted to the MS teams channel called \"Lab\".\n"
      ]
    },
    {
      "cell_type": "markdown",
      "metadata": {
        "id": "jQx2YpXIxu6m"
      },
      "source": [
        "# Installing AIF360"
      ]
    },
    {
      "cell_type": "code",
      "metadata": {
        "id": "GYqgmESHxu6n"
      },
      "source": [
        "# !pip install aif360\n",
        "# !pip install fairlearn\n",
        "\n",
        "from aif360.algorithms.preprocessing.optim_preproc_helpers.data_preproc_functions\\\n",
        "        import load_preproc_data_compas\n",
        "\n",
        "from aif360.metrics import BinaryLabelDatasetMetric"
      ],
      "execution_count": null,
      "outputs": []
    },
    {
      "cell_type": "markdown",
      "metadata": {
        "id": "4-pc9YhRxu6n"
      },
      "source": [
        "In this assignment, we're going the AIF360 library.\n",
        "For documentation, take a look at:\n",
        "\n",
        "    * https://aif360.mybluemix.net/\n",
        "    * https://aif360.readthedocs.io/en/latest/ (API documentation)\n",
        "    * https://github.com/Trusted-AI/AIF360 Installation instructions\n",
        "\n",
        "We highly recommend using a dedicated Python environment for this assignment, for example\n",
        "by using Conda (https://docs.conda.io/en/latest/).\n",
        "You could also use Google Collab (https://colab.research.google.com/).\n",
        "\n",
        "When installing AIF360, you only need to install the stable, basic version (e.g., pip install aif360)\n",
        "You don't need to install the additional optional dependencies.\n",
        "\n",
        "The library itself provides some examples in the GitHub repository, see:\n",
        "https://github.com/Trusted-AI/AIF360/tree/master/examples.\n"
      ]
    },
    {
      "cell_type": "markdown",
      "metadata": {
        "id": "XMAamjIhxu6n"
      },
      "source": [
        "# Exploring the data"
      ]
    },
    {
      "cell_type": "markdown",
      "metadata": {
        "id": "WULE5A7jxu6n"
      },
      "source": [
        "**COMPAS dataset**\n",
        "\n",
        "In this assignment we're going to use the COMPAS dataset.\n",
        "\n",
        "If you haven't done so already, take a look at this article: https://www.propublica.org/article/machine-bias-risk-assessments-in-criminal-sentencing.\n",
        "For background on the dataset, see https://www.propublica.org/article/how-we-analyzed-the-compas-recidivism-algorithm\n",
        "\n",
        "**Reading in the COMPAS dataset**\n",
        "\n",
        "The AIF360 library has already built in code to read in this dataset.\n",
        "However, you'll first need to manually download the COMPAS dataset \n",
        "and put it into a specified directory. \n",
        "See: https://github.com/Trusted-AI/AIF360/blob/master/aif360/data/raw/compas/README.md.\n",
        "If you try to load in the dataset for the first time, the library will give you instructions on the steps to download the data.\n",
        "\n",
        "The protected attributes in this dataset are 'sex' and 'race'. \n",
        "For this assignment, we'll only focus on race.\n",
        "\n",
        "The label codes recidivism, here defined as a new arrest within 2 years. \n",
        "Note that in this dataset, the label is coded with 1 being the favorable label."
      ]
    },
    {
      "cell_type": "code",
      "metadata": {
        "id": "ntZORDbtxu6n"
      },
      "source": [
        "# !wget -c https://raw.githubusercontent.com/propublica/compas-analysis/master/compas-scores-two-years.csv\n",
        "# !mv compas-scores-two-years.csv PATH_TO_DATA_FILE\n",
        "\n",
        "compas_data = load_preproc_data_compas(protected_attributes=['race'])"
      ],
      "execution_count": null,
      "outputs": []
    },
    {
      "cell_type": "markdown",
      "metadata": {
        "id": "NzpnkDQKxu6o"
      },
      "source": [
        "Now let's take a look at the data:"
      ]
    },
    {
      "cell_type": "code",
      "metadata": {
        "id": "eaR5uGDuxu6o",
        "outputId": "58479c0b-bdeb-46cb-a9f5-eb2f7806002e"
      },
      "source": [
        "compas_data"
      ],
      "execution_count": null,
      "outputs": [
        {
          "output_type": "execute_result",
          "data": {
            "text/plain": [
              "               instance weights features                                       \\\n",
              "                                         protected attribute                    \n",
              "                                     sex                race age_cat=25 to 45   \n",
              "instance names                                                                  \n",
              "3                           1.0      0.0                 0.0              1.0   \n",
              "4                           1.0      0.0                 0.0              0.0   \n",
              "8                           1.0      0.0                 1.0              1.0   \n",
              "10                          1.0      1.0                 1.0              1.0   \n",
              "14                          1.0      0.0                 1.0              1.0   \n",
              "...                         ...      ...                 ...              ...   \n",
              "10994                       1.0      0.0                 0.0              1.0   \n",
              "10995                       1.0      0.0                 0.0              0.0   \n",
              "10996                       1.0      0.0                 0.0              0.0   \n",
              "10997                       1.0      0.0                 0.0              0.0   \n",
              "11000                       1.0      1.0                 0.0              1.0   \n",
              "\n",
              "                                                                            \\\n",
              "                                                                             \n",
              "               age_cat=Greater than 45 age_cat=Less than 25 priors_count=0   \n",
              "instance names                                                               \n",
              "3                                  0.0                  0.0            1.0   \n",
              "4                                  0.0                  1.0            0.0   \n",
              "8                                  0.0                  0.0            0.0   \n",
              "10                                 0.0                  0.0            1.0   \n",
              "14                                 0.0                  0.0            1.0   \n",
              "...                                ...                  ...            ...   \n",
              "10994                              0.0                  0.0            1.0   \n",
              "10995                              0.0                  1.0            1.0   \n",
              "10996                              0.0                  1.0            1.0   \n",
              "10997                              0.0                  1.0            1.0   \n",
              "11000                              0.0                  0.0            0.0   \n",
              "\n",
              "                                                                               \\\n",
              "                                                                                \n",
              "               priors_count=1 to 3 priors_count=More than 3 c_charge_degree=F   \n",
              "instance names                                                                  \n",
              "3                              0.0                      0.0               1.0   \n",
              "4                              0.0                      1.0               1.0   \n",
              "8                              0.0                      1.0               1.0   \n",
              "10                             0.0                      0.0               0.0   \n",
              "14                             0.0                      0.0               1.0   \n",
              "...                            ...                      ...               ...   \n",
              "10994                          0.0                      0.0               0.0   \n",
              "10995                          0.0                      0.0               1.0   \n",
              "10996                          0.0                      0.0               1.0   \n",
              "10997                          0.0                      0.0               1.0   \n",
              "11000                          1.0                      0.0               0.0   \n",
              "\n",
              "                                 labels  \n",
              "                                         \n",
              "               c_charge_degree=M         \n",
              "instance names                           \n",
              "3                            0.0    1.0  \n",
              "4                            0.0    1.0  \n",
              "8                            0.0    1.0  \n",
              "10                           1.0    0.0  \n",
              "14                           0.0    0.0  \n",
              "...                          ...    ...  \n",
              "10994                        1.0    1.0  \n",
              "10995                        0.0    0.0  \n",
              "10996                        0.0    0.0  \n",
              "10997                        0.0    0.0  \n",
              "11000                        1.0    0.0  \n",
              "\n",
              "[5278 rows x 12 columns]"
            ]
          },
          "metadata": {
            "tags": []
          },
          "execution_count": 8
        }
      ]
    },
    {
      "cell_type": "markdown",
      "metadata": {
        "id": "O2_Rgb9Dxu6o"
      },
      "source": [
        "**Creating a train and test split**\n",
        "\n",
        "We'll create a train (80%) and test split (20%). \n",
        "\n",
        "Note: *Usually when carrying out machine learning experiments,\n",
        "we also need a dev set for selecting our models and tuning hyper-parameters.\n",
        "However, in this assignment, the goal is not to optimize \n",
        "the performance of models so we'll only use a train and test split.*"
      ]
    },
    {
      "cell_type": "code",
      "metadata": {
        "id": "tEiYeOYbxu6o"
      },
      "source": [
        "train_data, test_data = compas_data.split([0.8], shuffle=True)"
      ],
      "execution_count": null,
      "outputs": []
    },
    {
      "cell_type": "markdown",
      "metadata": {
        "id": "pPtJzDqCxu6o"
      },
      "source": [
        "In this assignment, we'll focus on protected attribute: race.\n",
        "This is coded as a binary variable with \"Caucasian\" coded as 1 and \"African-American\" coded as 0."
      ]
    },
    {
      "cell_type": "code",
      "metadata": {
        "id": "SjT3Zw2hxu6p"
      },
      "source": [
        "priv_group   = [{'race': 1}]  # Caucasian\n",
        "unpriv_group = [{'race': 0}]  # African-American"
      ],
      "execution_count": null,
      "outputs": []
    },
    {
      "cell_type": "markdown",
      "metadata": {
        "id": "Jr90y1LDxu6p"
      },
      "source": [
        "Now let's look at some statistics:"
      ]
    },
    {
      "cell_type": "code",
      "metadata": {
        "colab": {
          "base_uri": "https://localhost:8080/"
        },
        "id": "iv6GMiiCxu6p",
        "outputId": "a94802bb-95b5-40fd-c5bd-61bfec216ad7"
      },
      "source": [
        "print(\"Training Dataset shape: %s, %s\" % train_data.features.shape)\n",
        "print(\"Favorable (not recid) and unfavorable (recid) labels: %s; %s\" % (train_data.favorable_label, train_data.unfavorable_label))\n",
        "print(\"Protected attribute names: %s\" % train_data.protected_attribute_names)\n",
        "# labels of privileged (1) and unprovileged groups (0)\n",
        "print(\"Privileged (caucasian) and unprivileged (African-American) protected attribute values: %s, %s\" % (train_data.privileged_protected_attributes, \n",
        "      train_data.unprivileged_protected_attributes))\n",
        "print(\"Feature names: %s\" % train_data.feature_names)"
      ],
      "execution_count": null,
      "outputs": [
        {
          "output_type": "stream",
          "text": [
            "Training Dataset shape: 4222, 10\n",
            "Favorable (not recid) and unfavorable (recid) labels: 0.0; 1.0\n",
            "Protected attribute names: ['race']\n",
            "Privileged (caucasian) and unprivileged (African-American) protected attribute values: [array([1.])], [array([0.])]\n",
            "Feature names: ['sex', 'race', 'age_cat=25 to 45', 'age_cat=Greater than 45', 'age_cat=Less than 25', 'priors_count=0', 'priors_count=1 to 3', 'priors_count=More than 3', 'c_charge_degree=F', 'c_charge_degree=M']\n"
          ],
          "name": "stdout"
        }
      ]
    },
    {
      "cell_type": "markdown",
      "metadata": {
        "id": "4jQ3JiHIxu6p"
      },
      "source": [
        "Now, let's take a look at the test data and compute the following difference:\n",
        "\n",
        "$$𝑃(𝑌=favorable|𝐷=unprivileged)−𝑃(𝑌=favorable|𝐷=privileged)$$\n"
      ]
    },
    {
      "cell_type": "code",
      "metadata": {
        "colab": {
          "base_uri": "https://localhost:8080/"
        },
        "id": "zm5QQc1Sxu6p",
        "outputId": "62ad8b8c-c479-4aa7-e2f9-0edcd7fa38e6"
      },
      "source": [
        "metric_test_data = BinaryLabelDatasetMetric(test_data, \n",
        "                             unprivileged_groups = unpriv_group,\n",
        "                             privileged_groups   = priv_group)\n",
        "print(\"Mean difference (statistical parity difference) = %f\" % \n",
        "      metric_test_data.statistical_parity_difference())\n"
      ],
      "execution_count": null,
      "outputs": [
        {
          "output_type": "stream",
          "text": [
            "Mean difference (statistical parity difference) = -0.145450\n"
          ],
          "name": "stdout"
        }
      ]
    },
    {
      "cell_type": "markdown",
      "metadata": {
        "id": "BhnAjpxdxu6p"
      },
      "source": [
        "To be clear, because we're looking at the original label distribution this is the base rate difference between the two groups"
      ]
    },
    {
      "cell_type": "code",
      "metadata": {
        "colab": {
          "base_uri": "https://localhost:8080/"
        },
        "id": "sg3bfAz-xu6p",
        "outputId": "a6ca75e4-d578-40ff-d399-650cce26bd14"
      },
      "source": [
        "metric_test_data.base_rate(False)  # Base rate of the unprivileged group"
      ],
      "execution_count": null,
      "outputs": [
        {
          "output_type": "execute_result",
          "data": {
            "text/plain": [
              "0.46177847113884557"
            ]
          },
          "metadata": {
            "tags": []
          },
          "execution_count": 14
        }
      ]
    },
    {
      "cell_type": "code",
      "metadata": {
        "colab": {
          "base_uri": "https://localhost:8080/"
        },
        "id": "UTZ2MYSbxu6p",
        "outputId": "ec978485-c35d-4c30-8971-0edb25da06df"
      },
      "source": [
        "metric_test_data.base_rate(True)   # Base rate of the privileged group"
      ],
      "execution_count": null,
      "outputs": [
        {
          "output_type": "execute_result",
          "data": {
            "text/plain": [
              "0.618510158013544"
            ]
          },
          "metadata": {
            "tags": []
          },
          "execution_count": 10
        }
      ]
    },
    {
      "cell_type": "markdown",
      "metadata": {
        "id": "0S8-RwIH9Qu3"
      },
      "source": [
        "To explore the data, it can also help to convert it to a dataframe.\n",
        "Note that we get the same numbers as the reported base rates above,\n",
        "but because when calculating base rates the favorable label is taken (which is actually 0),  it's 1-..."
      ]
    },
    {
      "cell_type": "code",
      "metadata": {
        "id": "3MCGC1F99Qu3",
        "outputId": "1c87a81d-649a-43c6-e70b-86c8826da43d"
      },
      "source": [
        "test_data.convert_to_dataframe()[0].groupby(['race'])['two_year_recid'].describe()"
      ],
      "execution_count": null,
      "outputs": [
        {
          "output_type": "execute_result",
          "data": {
            "text/html": [
              "<div>\n",
              "<style scoped>\n",
              "    .dataframe tbody tr th:only-of-type {\n",
              "        vertical-align: middle;\n",
              "    }\n",
              "\n",
              "    .dataframe tbody tr th {\n",
              "        vertical-align: top;\n",
              "    }\n",
              "\n",
              "    .dataframe thead th {\n",
              "        text-align: right;\n",
              "    }\n",
              "</style>\n",
              "<table border=\"1\" class=\"dataframe\">\n",
              "  <thead>\n",
              "    <tr style=\"text-align: right;\">\n",
              "      <th></th>\n",
              "      <th>count</th>\n",
              "      <th>mean</th>\n",
              "      <th>std</th>\n",
              "      <th>min</th>\n",
              "      <th>25%</th>\n",
              "      <th>50%</th>\n",
              "      <th>75%</th>\n",
              "      <th>max</th>\n",
              "    </tr>\n",
              "    <tr>\n",
              "      <th>race</th>\n",
              "      <th></th>\n",
              "      <th></th>\n",
              "      <th></th>\n",
              "      <th></th>\n",
              "      <th></th>\n",
              "      <th></th>\n",
              "      <th></th>\n",
              "      <th></th>\n",
              "    </tr>\n",
              "  </thead>\n",
              "  <tbody>\n",
              "    <tr>\n",
              "      <th>0.0</th>\n",
              "      <td>641.0</td>\n",
              "      <td>0.538222</td>\n",
              "      <td>0.498926</td>\n",
              "      <td>0.0</td>\n",
              "      <td>0.0</td>\n",
              "      <td>1.0</td>\n",
              "      <td>1.0</td>\n",
              "      <td>1.0</td>\n",
              "    </tr>\n",
              "    <tr>\n",
              "      <th>1.0</th>\n",
              "      <td>415.0</td>\n",
              "      <td>0.392771</td>\n",
              "      <td>0.488956</td>\n",
              "      <td>0.0</td>\n",
              "      <td>0.0</td>\n",
              "      <td>0.0</td>\n",
              "      <td>1.0</td>\n",
              "      <td>1.0</td>\n",
              "    </tr>\n",
              "  </tbody>\n",
              "</table>\n",
              "</div>"
            ],
            "text/plain": [
              "      count      mean       std  min  25%  50%  75%  max\n",
              "race                                                    \n",
              "0.0   641.0  0.538222  0.498926  0.0  0.0  1.0  1.0  1.0\n",
              "1.0   415.0  0.392771  0.488956  0.0  0.0  0.0  1.0  1.0"
            ]
          },
          "metadata": {
            "tags": []
          },
          "execution_count": 27
        }
      ]
    },
    {
      "cell_type": "markdown",
      "metadata": {
        "id": "u-McnZqSxu6q"
      },
      "source": [
        "# Classifiers\n",
        "\n",
        "**Training classifiers**\n",
        "Now, train the following classifiers:\n",
        "\n",
        "1. A logistic regression classifier making use of all features \n",
        "2. A logistic regression classifier without the race feature\n",
        "3. A classifier after reweighting instances in the training set https://aif360.readthedocs.io/en/latest/modules/generated/aif360.algorithms.preprocessing.Reweighing.html.\n",
        "    * Report the weights that are used for reweighing and a short interpretation/discussion.\n",
        "4. A classifier after post-processing \n",
        "https://aif360.readthedocs.io/en/latest/modules/generated/aif360.algorithms.postprocessing.EqOddsPostprocessing.html#aif360.algorithms.postprocessing.EqOddsPostprocessing \n",
        "\n",
        "For training the classifier we recommend using scikit-learn (https://scikit-learn.org/stable/).\n",
        "AIF360 contains a sklearn wrapper, however that one is in development and not complete.\n",
        "We recommend using the base AIF360 library, and not their sklearn wrapper.\n",
        "\n",
        "For both reweighing and post-processing, \n",
        "you can choose one of the classifiers from 1 and 2 that \n",
        "you consider to be more appropriate. \n",
        "\n",
        "**Report**\n",
        "For each of these classifiers, report the following:\n",
        "* Overall precision, recall and accuracy\n",
        "* The statistical parity difference. Does this classifier satisfy statistical partiy? How does this difference compare the original dataset?\n",
        "* Difference of true positive rates between the two groups. Does the classifier satisfy the equal opportunity criterion? \n",
        "\n"
      ]
    },
    {
      "cell_type": "markdown",
      "metadata": {
        "id": "IOxdF1PJxu6q"
      },
      "source": [
        "# Discussion\n",
        "\n",
        "**Report**\n",
        "* Shortly discuss your results. For example, how do the different classifiers compare against each other? \n",
        "* Also include a short ethical discussion (1 or 2 paragraphs) reflecting on these two aspects: 1) The use of a ML system to try to predict recidivism; 2) The public release of a dataset like this.\n"
      ]
    }
  ]
}