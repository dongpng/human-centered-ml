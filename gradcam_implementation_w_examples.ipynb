{
  "nbformat": 4,
  "nbformat_minor": 0,
  "metadata": {
    "colab": {
      "name": "gradcam_implementation_w_examples",
      "provenance": [],
      "collapsed_sections": []
    },
    "kernelspec": {
      "display_name": "Python 3",
      "language": "python",
      "name": "python3"
    },
    "language_info": {
      "codemirror_mode": {
        "name": "ipython",
        "version": 3
      },
      "file_extension": ".py",
      "mimetype": "text/x-python",
      "name": "python",
      "nbconvert_exporter": "python",
      "pygments_lexer": "ipython3",
      "version": "3.7.0"
    }
  },
  "cells": [
    {
      "cell_type": "markdown",
      "metadata": {
        "id": "Hk_UICK_BZFw"
      },
      "source": [
        "## Introduction & Setup"
      ]
    },
    {
      "cell_type": "markdown",
      "metadata": {
        "id": "UJlWygEtfKlA"
      },
      "source": [
        "This python notebook presents an implementation of GradCam and application to two deep neural network (CNN) models, one trained on ImageNet for object recognition(mainly , although annotated for some animal breeds) and another trained on VGGFace for face recognition. We also provide a set of cropped-aligned images and unaligned frames all of which contain faces along with some objects in the background. You can run (and certainly play around) the scripts to observe how the saliency maps differ across models and top k predictions of each model."
      ]
    },
    {
      "cell_type": "code",
      "metadata": {
        "id": "huLD1pn-POTM"
      },
      "source": [
        "!pip install git+https://github.com/rcmalli/keras-vggface.git\n",
        "!pip install keras_applications"
      ],
      "execution_count": null,
      "outputs": []
    },
    {
      "cell_type": "code",
      "metadata": {
        "id": "7SUqBs3oBZFw"
      },
      "source": [
        "import os\n",
        "import numpy as np\n",
        "import tensorflow as tf\n",
        "from tensorflow import keras\n",
        "from keras_vggface import utils\n",
        "from keras.preprocessing import image\n",
        "from keras_vggface.vggface import VGGFace\n",
        "\n",
        "# Display\n",
        "from IPython.display import Image, display\n",
        "import matplotlib.pyplot as plt\n",
        "import matplotlib.cm as cm"
      ],
      "execution_count": 7,
      "outputs": []
    },
    {
      "cell_type": "markdown",
      "metadata": {
        "id": "MJyj6CWyBZFx"
      },
      "source": [
        "## The Grad-CAM algorithm"
      ]
    },
    {
      "cell_type": "code",
      "metadata": {
        "id": "6qD99-8nBZFx"
      },
      "source": [
        "def get_and_preprocess_imagenet_img_array(img_path, target_size=(299, 299)):\n",
        "    # `img` is a PIL image of size 299x299\n",
        "    img = keras.preprocessing.image.load_img(img_path, target_size=target_size)\n",
        "    # `array` is a float32 Numpy array of shape (299, 299, 3)\n",
        "    array = keras.preprocessing.image.img_to_array(img)\n",
        "    # We add a dimension to transform our array into a \"batch\"\n",
        "    # of size (1, 299, 299, 3)\n",
        "    array = np.expand_dims(array, axis=0)\n",
        "    array = keras.applications.xception.preprocess_input(array)\n",
        "    return array\n",
        "\n",
        "\n",
        "def get_and_preprocess_face_img_array(img_path, target_size=(224,224), version=1):\n",
        "    img = image.load_img(img_path, target_size=target_size)\n",
        "    array = image.img_to_array(img)\n",
        "    array = np.expand_dims(array, axis=0)\n",
        "    array = utils.preprocess_input(array, version=version) \n",
        "    return array\n",
        "\n",
        "\n",
        "def make_gradcam_heatmap(img_array, model, visualization_layer, pred_index=None):\n",
        "    # First, we create a model that maps the input image to the activations\n",
        "    # of the last conv layer as well as the output predictions\n",
        "    grad_model = tf.keras.models.Model(\n",
        "        [model.inputs], [model.get_layer(visualization_layer).output, model.output]\n",
        "    )\n",
        "\n",
        "    # Then, we compute the gradient of the top predicted class for our input image\n",
        "    # with respect to the activations of the last conv layer\n",
        "    with tf.GradientTape() as tape:\n",
        "        last_conv_layer_output, preds = grad_model(img_array)\n",
        "        if pred_index is None:\n",
        "            pred_index = tf.argmax(preds[0])\n",
        "        class_channel = preds[:, pred_index]\n",
        "\n",
        "    # This is the gradient of the output neuron (top predicted or chosen)\n",
        "    # with regard to the output feature map of the last conv layer\n",
        "    grads = tape.gradient(class_channel, last_conv_layer_output)\n",
        "\n",
        "    # This is a vector where each entry is the mean intensity of the gradient\n",
        "    # over a specific feature map channel\n",
        "    pooled_grads = tf.reduce_mean(grads, axis=(0, 1, 2))\n",
        "\n",
        "    # We multiply each channel in the feature map array\n",
        "    # by \"how important this channel is\" with regard to the top predicted class\n",
        "    # then sum all the channels to obtain the heatmap class activation\n",
        "    last_conv_layer_output = last_conv_layer_output[0]\n",
        "    heatmap = last_conv_layer_output @ pooled_grads[..., tf.newaxis]\n",
        "    heatmap = tf.squeeze(heatmap)\n",
        "\n",
        "    # For visualization purpose, we will also normalize the heatmap between 0 & 1\n",
        "    heatmap = tf.maximum(heatmap, 0) / tf.math.reduce_max(heatmap)\n",
        "    heatmap = heatmap.numpy()\n",
        "\n",
        "    return heatmap\n",
        "\n",
        "\n",
        "def display_gradcam(img, heatmap, alpha=0.4):\n",
        "    # Load the original image\n",
        "    img = keras.preprocessing.image.load_img(img_path)\n",
        "    img = keras.preprocessing.image.img_to_array(img)\n",
        "\n",
        "    # Rescale heatmap to a range 0-255\n",
        "    heatmap = np.uint8(255 * heatmap)\n",
        "\n",
        "    # Use jet colormap to colorize heatmap\n",
        "    jet = cm.get_cmap(\"jet\")\n",
        "\n",
        "    # Use RGB values of the colormap\n",
        "    jet_colors = jet(np.arange(256))[:, :3]\n",
        "    jet_heatmap = jet_colors[heatmap]\n",
        "\n",
        "    # Create an image with RGB colorized heatmap\n",
        "    jet_heatmap = image.array_to_img(jet_heatmap)\n",
        "    jet_heatmap = jet_heatmap.resize((img.shape[1], img.shape[0]))\n",
        "    jet_heatmap = image.img_to_array(jet_heatmap)\n",
        "\n",
        "    # Superimpose the heatmap on original image\n",
        "    superimposed_img = jet_heatmap * alpha + img\n",
        "    superimposed_img = image.array_to_img(superimposed_img)\n",
        "\n",
        "    # Save the superimposed image\n",
        "    superimposed_img.save('tmp.jpg')\n",
        "\n",
        "    # Display Grad CAM\n",
        "    display(Image('tmp.jpg'))\n",
        "\n"
      ],
      "execution_count": 8,
      "outputs": []
    },
    {
      "cell_type": "code",
      "metadata": {
        "id": "MUo000mB7fD-"
      },
      "source": [
        "# Download and unzip images\n",
        "!wget -c https://github.com/dongpng/human-centered-ml/raw/master/pics.zip\n",
        "!unzip pics.zip"
      ],
      "execution_count": null,
      "outputs": []
    },
    {
      "cell_type": "code",
      "metadata": {
        "id": "tkaPE24v8UP2"
      },
      "source": [
        "# specify data path\n",
        "img_paths = [os.path.join('pics/', img_name) for img_name in os.listdir('pics/')]"
      ],
      "execution_count": 9,
      "outputs": []
    },
    {
      "cell_type": "markdown",
      "metadata": {
        "id": "VdyHrZk3TeYS"
      },
      "source": [
        "## ImageNet Classification"
      ]
    },
    {
      "cell_type": "code",
      "metadata": {
        "id": "Y8_RSWuPTdI4"
      },
      "source": [
        "# Un comment part below if you wish to see examples with elephants and pets\n",
        "\n",
        "#img_paths = [\n",
        "#    keras.utils.get_file(\n",
        "#        \"african_elephant.jpg\", \"https://i.imgur.com/Bvro0YD.png\"), \n",
        "#    keras.utils.get_file(\n",
        "#    \"cat_and_dog.jpg\",\n",
        "#    \"https://storage.googleapis.com/petbacker/images/blog/2017/dog-and-cat-cover.jpg\")\n",
        "#    ]\n",
        "    \n",
        "\n",
        "topk = 3\n",
        "for img_path in img_paths:\n",
        "    print('********')\n",
        "    print(f'image: {os.path.basename(img_path)}')\n",
        "    display(Image(img_path))\n",
        "    \n",
        "    # Make model\n",
        "    model = keras.applications.xception.Xception(weights=\"imagenet\")\n",
        "    # print(model.summary())\n",
        "    visualization_layer = 'block14_sepconv2_act'\n",
        "    target_size = (299, 299)\n",
        "    \n",
        "    img_array = get_and_preprocess_imagenet_img_array(\n",
        "        img_path, target_size=target_size)\n",
        "    \n",
        "    # Print what the top predicted class is\n",
        "    preds = model.predict(img_array)\n",
        "    predictions = keras.applications.xception.decode_predictions(preds, top=topk)[0]\n",
        "    top_indices = preds.squeeze(axis=0).argsort()[-topk:][::-1]\n",
        "        \n",
        "    # Generate class activation heatmap\n",
        "    for idx, (prediction, top_idx) in enumerate(zip(predictions, top_indices)):\n",
        "        print(f'Top {idx+1} prediction: {prediction[1]}')  \n",
        "\n",
        "        heatmap = make_gradcam_heatmap(\n",
        "            img_array, model, visualization_layer, pred_index=top_idx)\n",
        "            \n",
        "        fig = plt.figure()\n",
        "        ax = fig.add_subplot()\n",
        "        ms = ax.matshow(heatmap)\n",
        "        fig.colorbar(ms)\n",
        "        plt.show()\n",
        "        \n",
        "        display_gradcam(img_path, heatmap)\n",
        "        plt.close()\n",
        "    print('\\n\\n')"
      ],
      "execution_count": null,
      "outputs": []
    },
    {
      "cell_type": "markdown",
      "metadata": {
        "id": "7wBg_HjJ7E6F"
      },
      "source": [
        "## ResNet50 FaceVGG Model"
      ]
    },
    {
      "cell_type": "code",
      "metadata": {
        "id": "gnuw79Cdhx53"
      },
      "source": [
        "# Make model\n",
        "model = VGGFace(model='resnet50')\n",
        "# print(model.summary())\n",
        "visualization_layer = 'conv5_3_1x1_increase'\n",
        "target_size = (224, 224)\n",
        "\n",
        "topk=3\n",
        "print('Visualize ResNet50 Model')\n",
        "\n",
        "for img_path in img_paths:\n",
        "    print('********')\n",
        "    print(f'image: {os.path.basename(img_path)}')\n",
        "    display(Image(img_path))\n",
        "\n",
        "    # Print what the top predicted class is\n",
        "    img_array = get_and_preprocess_face_img_array(\n",
        "        img_path, target_size=target_size, version=2)\n",
        "    preds = model.predict(img_array)\n",
        "    predictions = utils.decode_predictions(preds, top=topk)[0]\n",
        "    top_indices = preds.squeeze(axis=0).argsort()[-topk:][::-1]\n",
        "        \n",
        "    # Generate class activation heatmap\n",
        "    for idx, (prediction, top_idx) in enumerate(zip(predictions, top_indices)):\n",
        "        print(f'Top {idx+1} prediction: {prediction[0]}')  \n",
        "\n",
        "        heatmap = make_gradcam_heatmap(\n",
        "            img_array, model, visualization_layer, pred_index=top_idx)\n",
        "\n",
        "        fig = plt.figure()\n",
        "        ax = fig.add_subplot()\n",
        "        ms = ax.matshow(heatmap)\n",
        "        fig.colorbar(ms)\n",
        "        plt.show()\n",
        "        \n",
        "        display_gradcam(img_path, heatmap)\n",
        "        plt.close()\n",
        "    print('\\n\\n')"
      ],
      "execution_count": null,
      "outputs": []
    }
  ]
}